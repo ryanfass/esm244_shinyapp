{
 "cells": [
  {
   "cell_type": "code",
   "execution_count": 2,
   "metadata": {},
   "outputs": [
    {
     "name": "stderr",
     "output_type": "stream",
     "text": [
      "── \u001b[1mAttaching packages\u001b[22m ─────────────────────────────────────── tidyverse 1.3.1 ──\n",
      "\n",
      "\u001b[32m✔\u001b[39m \u001b[34mggplot2\u001b[39m 3.3.3     \u001b[32m✔\u001b[39m \u001b[34mpurrr  \u001b[39m 0.3.4\n",
      "\u001b[32m✔\u001b[39m \u001b[34mtibble \u001b[39m 3.1.1     \u001b[32m✔\u001b[39m \u001b[34mdplyr  \u001b[39m 1.0.6\n",
      "\u001b[32m✔\u001b[39m \u001b[34mtidyr  \u001b[39m 1.1.3     \u001b[32m✔\u001b[39m \u001b[34mstringr\u001b[39m 1.4.0\n",
      "\u001b[32m✔\u001b[39m \u001b[34mreadr  \u001b[39m 1.4.0     \u001b[32m✔\u001b[39m \u001b[34mforcats\u001b[39m 0.5.1\n",
      "\n",
      "── \u001b[1mConflicts\u001b[22m ────────────────────────────────────────── tidyverse_conflicts() ──\n",
      "\u001b[31m✖\u001b[39m \u001b[34mdplyr\u001b[39m::\u001b[32mfilter()\u001b[39m masks \u001b[34mstats\u001b[39m::filter()\n",
      "\u001b[31m✖\u001b[39m \u001b[34mdplyr\u001b[39m::\u001b[32mlag()\u001b[39m    masks \u001b[34mstats\u001b[39m::lag()\n",
      "\n"
     ]
    }
   ],
   "source": [
    "library('tidyverse')\n",
    "library('ggplot2')"
   ]
  },
  {
   "cell_type": "code",
   "execution_count": 2,
   "metadata": {},
   "outputs": [
    {
     "data": {
      "text/html": [
       "<style>\n",
       ".list-inline {list-style: none; margin:0; padding: 0}\n",
       ".list-inline>li {display: inline-block}\n",
       ".list-inline>li:not(:last-child)::after {content: \"\\00b7\"; padding: 0 .5ex}\n",
       "</style>\n",
       "<ol class=list-inline><li>'oak_treat1_yr1.csv'</li><li>'oak_treat1_yr2.csv'</li><li>'oak_treat1_yr3.csv'</li><li>'oak_treat13_yr1.csv'</li><li>'oak_treat13_yr2.csv'</li><li>'oak_treat2_yr1.csv'</li><li>'oak_treat2_yr2.csv'</li><li>'oak_treat2_yr3.csv'</li><li>'oak_treat3_yr1.csv'</li><li>'oak_treat3_yr2.csv'</li><li>'oak_treat3_yr3.csv'</li><li>'oak_treat4_yr1.csv'</li><li>'oak_treat4_yr2.csv'</li><li>'oak_treat4_yr3.csv'</li><li>'oak_treatcontrols_yr1.csv'</li><li>'oak_treatcontrols_yr2.csv'</li><li>'oak_treatcontrols_yr3.csv'</li></ol>\n"
      ],
      "text/latex": [
       "\\begin{enumerate*}\n",
       "\\item 'oak\\_treat1\\_yr1.csv'\n",
       "\\item 'oak\\_treat1\\_yr2.csv'\n",
       "\\item 'oak\\_treat1\\_yr3.csv'\n",
       "\\item 'oak\\_treat13\\_yr1.csv'\n",
       "\\item 'oak\\_treat13\\_yr2.csv'\n",
       "\\item 'oak\\_treat2\\_yr1.csv'\n",
       "\\item 'oak\\_treat2\\_yr2.csv'\n",
       "\\item 'oak\\_treat2\\_yr3.csv'\n",
       "\\item 'oak\\_treat3\\_yr1.csv'\n",
       "\\item 'oak\\_treat3\\_yr2.csv'\n",
       "\\item 'oak\\_treat3\\_yr3.csv'\n",
       "\\item 'oak\\_treat4\\_yr1.csv'\n",
       "\\item 'oak\\_treat4\\_yr2.csv'\n",
       "\\item 'oak\\_treat4\\_yr3.csv'\n",
       "\\item 'oak\\_treatcontrols\\_yr1.csv'\n",
       "\\item 'oak\\_treatcontrols\\_yr2.csv'\n",
       "\\item 'oak\\_treatcontrols\\_yr3.csv'\n",
       "\\end{enumerate*}\n"
      ],
      "text/markdown": [
       "1. 'oak_treat1_yr1.csv'\n",
       "2. 'oak_treat1_yr2.csv'\n",
       "3. 'oak_treat1_yr3.csv'\n",
       "4. 'oak_treat13_yr1.csv'\n",
       "5. 'oak_treat13_yr2.csv'\n",
       "6. 'oak_treat2_yr1.csv'\n",
       "7. 'oak_treat2_yr2.csv'\n",
       "8. 'oak_treat2_yr3.csv'\n",
       "9. 'oak_treat3_yr1.csv'\n",
       "10. 'oak_treat3_yr2.csv'\n",
       "11. 'oak_treat3_yr3.csv'\n",
       "12. 'oak_treat4_yr1.csv'\n",
       "13. 'oak_treat4_yr2.csv'\n",
       "14. 'oak_treat4_yr3.csv'\n",
       "15. 'oak_treatcontrols_yr1.csv'\n",
       "16. 'oak_treatcontrols_yr2.csv'\n",
       "17. 'oak_treatcontrols_yr3.csv'\n",
       "\n",
       "\n"
      ],
      "text/plain": [
       " [1] \"oak_treat1_yr1.csv\"        \"oak_treat1_yr2.csv\"       \n",
       " [3] \"oak_treat1_yr3.csv\"        \"oak_treat13_yr1.csv\"      \n",
       " [5] \"oak_treat13_yr2.csv\"       \"oak_treat2_yr1.csv\"       \n",
       " [7] \"oak_treat2_yr2.csv\"        \"oak_treat2_yr3.csv\"       \n",
       " [9] \"oak_treat3_yr1.csv\"        \"oak_treat3_yr2.csv\"       \n",
       "[11] \"oak_treat3_yr3.csv\"        \"oak_treat4_yr1.csv\"       \n",
       "[13] \"oak_treat4_yr2.csv\"        \"oak_treat4_yr3.csv\"       \n",
       "[15] \"oak_treatcontrols_yr1.csv\" \"oak_treatcontrols_yr2.csv\"\n",
       "[17] \"oak_treatcontrols_yr3.csv\""
      ]
     },
     "metadata": {},
     "output_type": "display_data"
    }
   ],
   "source": [
    "##What are we looping over? each file\n",
    "##So, we need to get a list of all the files\n",
    "\n",
    "files = list.files(path = \"./trees_raw/\" , pattern = 'oak_treat*' )\n",
    "files"
   ]
  },
  {
   "cell_type": "code",
   "execution_count": 11,
   "metadata": {},
   "outputs": [],
   "source": [
    "df.meta = data.frame()\n",
    "for (x in files){\n",
    "    df = read.csv(paste0('./trees_raw/', x))\n",
    "    Ncol = ncol(df)\n",
    "    d = cbind(x, Ncol)\n",
    "    df.meta = rbind(df.meta, d)\n",
    "}"
   ]
  },
  {
   "cell_type": "code",
   "execution_count": 12,
   "metadata": {},
   "outputs": [],
   "source": [
    "for (x in files){\n",
    "    df = read.csv(paste0('./trees_raw/', x))\n",
    "    Ncol = ncol(df)\n",
    "    Year = strsplit(x, \"_\")[[1]][3]\n",
    "    Year = strsplit(Year, \"[.]\")[[1]][1]\n",
    "    if(Year != 'yr1' & Ncol != \"44\"){\n",
    "        df = df %>% dplyr::select(-X)\n",
    "    }\n",
    "    write.csv(df, paste0(\"./trees_new/\", x), row.names = FALSE)\n",
    "   }\n"
   ]
  },
  {
   "cell_type": "code",
   "execution_count": 13,
   "metadata": {},
   "outputs": [],
   "source": [
    "files = list.files(path = \"./trees_new/\", pattern = 'oak*')\n",
    "data = data.frame()\n",
    "for (x in files){\n",
    "    df = read.csv(paste0('./trees_new/', x))\n",
    "    file = x\n",
    "    Ncol = ncol(df)\n",
    "    d = cbind(file, Ncol)\n",
    "    data = rbind(data, d)\n",
    "\n",
    "   }\n",
    "\n"
   ]
  },
  {
   "cell_type": "code",
   "execution_count": 15,
   "metadata": {},
   "outputs": [],
   "source": [
    "library(gtools)"
   ]
  },
  {
   "cell_type": "code",
   "execution_count": null,
   "metadata": {},
   "outputs": [],
   "source": [
    "files = list.files(path = \"./trees_new/\", pattern = 'oak*')\n",
    "\n",
    "df.meta = data.frame()\n",
    "col.df = data.frame()\n",
    "\n",
    "for (x in files){\n",
    "    Treatment = strsplit(x , '[_]')[[1]][2]\n",
    "    Year = strsplit(x, \"_\")[[1]][3]\n",
    "    Year = strsplit(Year, \"[.]\")[[1]][1]\n",
    "    df = read.csv(paste0(\"./trees_new/\", x))\n",
    "    if (Year == \"yr1\"){\n",
    "        df = df} else{\n",
    "        df$UV2 = NA\n",
    "        \n",
    "    }\n",
    "    \n",
    "    df$Year = Year\n",
    "    df$Treatment = Treatment\n",
    "    NCol = ncol(df)\n",
    "    file = x\n",
    "    d = cbind(file, Ncol)\n",
    "    col.df = rbind(col.df, d)\n",
    "    df.meta  = smartbind(df.meta,  df)\n",
    "}"
   ]
  },
  {
   "cell_type": "code",
   "execution_count": 17,
   "metadata": {},
   "outputs": [],
   "source": [
    "write.csv(df.meta, \"./trees_new/df.meta.csv\", row.names = FALSE)"
   ]
  },
  {
   "cell_type": "code",
   "execution_count": 18,
   "metadata": {},
   "outputs": [],
   "source": [
    "#Drop rows with only na\n",
    "df.2 = df.meta %>% drop_na(TagNo)\n",
    "write.csv(df.2, \"./trees_new/df.meta.csv\", row.names = FALSE)"
   ]
  },
  {
   "cell_type": "code",
   "execution_count": 19,
   "metadata": {},
   "outputs": [],
   "source": [
    "df.meta = read.csv(\"./trees_new/df.meta.csv\")\n",
    "treatment.df = read.csv('./trees_new/plot_treatment_exp.csv')\n"
   ]
  },
  {
   "cell_type": "code",
   "execution_count": 20,
   "metadata": {},
   "outputs": [
    {
     "name": "stderr",
     "output_type": "stream",
     "text": [
      "Joining, by = \"MacroPlot.Name\"\n",
      "\n"
     ]
    }
   ],
   "source": [
    "#add treatment burn information\n",
    "df.meta = left_join(df.meta, treatment.df)\n",
    "write.csv(df.meta, \"./trees_new/df.meta.csv\", row.names = FALSE)"
   ]
  },
  {
   "cell_type": "markdown",
   "metadata": {},
   "source": [
    "Analysis"
   ]
  },
  {
   "cell_type": "code",
   "execution_count": 4,
   "metadata": {},
   "outputs": [],
   "source": [
    "df.meta = read.csv(\"./trees_new/df.meta.csv\")\n"
   ]
  },
  {
   "cell_type": "markdown",
   "metadata": {},
   "source": [
    "Figures"
   ]
  },
  {
   "cell_type": "code",
   "execution_count": null,
   "metadata": {},
   "outputs": [],
   "source": [
    "#Figure of ratio of live to dead trees before fire between treatments\n",
    "#Before fire - Monitoring.Status - PreBurnYear1\n",
    "#Treatments - post_budbreak; pre_budbreak; control\n"
   ]
  },
  {
   "cell_type": "code",
   "execution_count": 5,
   "metadata": {},
   "outputs": [
    {
     "data": {
      "text/html": [
       "<style>\n",
       ".list-inline {list-style: none; margin:0; padding: 0}\n",
       ".list-inline>li {display: inline-block}\n",
       ".list-inline>li:not(:last-child)::after {content: \"\\00b7\"; padding: 0 .5ex}\n",
       "</style>\n",
       "<ol class=list-inline><li>'post_budbreak'</li><li>'pre_budbreak'</li><li>'control'</li></ol>\n"
      ],
      "text/latex": [
       "\\begin{enumerate*}\n",
       "\\item 'post\\_budbreak'\n",
       "\\item 'pre\\_budbreak'\n",
       "\\item 'control'\n",
       "\\end{enumerate*}\n"
      ],
      "text/markdown": [
       "1. 'post_budbreak'\n",
       "2. 'pre_budbreak'\n",
       "3. 'control'\n",
       "\n",
       "\n"
      ],
      "text/plain": [
       "[1] \"post_budbreak\" \"pre_budbreak\"  \"control\"      "
      ]
     },
     "metadata": {},
     "output_type": "display_data"
    },
    {
     "data": {
      "text/html": [
       "<style>\n",
       ".list-inline {list-style: none; margin:0; padding: 0}\n",
       ".list-inline>li {display: inline-block}\n",
       ".list-inline>li:not(:last-child)::after {content: \"\\00b7\"; padding: 0 .5ex}\n",
       "</style>\n",
       "<ol class=list-inline><li>'post_budbreak'</li><li>'pre_budbreak'</li><li>'control'</li></ol>\n"
      ],
      "text/latex": [
       "\\begin{enumerate*}\n",
       "\\item 'post\\_budbreak'\n",
       "\\item 'pre\\_budbreak'\n",
       "\\item 'control'\n",
       "\\end{enumerate*}\n"
      ],
      "text/markdown": [
       "1. 'post_budbreak'\n",
       "2. 'pre_budbreak'\n",
       "3. 'control'\n",
       "\n",
       "\n"
      ],
      "text/plain": [
       "[1] \"post_budbreak\" \"pre_budbreak\"  \"control\"      "
      ]
     },
     "metadata": {},
     "output_type": "display_data"
    },
    {
     "data": {
      "image/png": "[encoded data removed]",
      "text/plain": [
       "plot without title"
      ]
     },
     "metadata": {
      "image/png": {
       "height": 420,
       "width": 420
      }
     },
     "output_type": "display_data"
    }
   ],
   "source": [
    "##Create new dataframe with just pre burn year 1\n",
    "df.preburn = df.meta %>% filter(Monitoring.Status == \"PreBurnYear1\")\n",
    "treatments = unique(df.preburn$treatment_burn)\n",
    "treatments\n",
    "\n",
    "\n",
    "df.ratios = data.frame()\n",
    "for (x in treatments){\n",
    "    df.treatment = df.preburn %>% filter(treatment_burn == x)\n",
    "    Treatment = x\n",
    "    ratio = (nrow(df.treatment  %>% filter(Status == \"L\")))/(nrow(df.treatment  %>% filter(Status == \"D\")))\n",
    "    df.temp = cbind(Treatment, ratio)\n",
    "    df.ratios = rbind(df.ratios, df.temp )\n",
    "}\n",
    "\n",
    "##Create new dataframe with just pre burn year 1\n",
    "df.preburn = df.meta %>% filter(Monitoring.Status == \"PreBurnYear1\")\n",
    "treatments = unique(df.preburn$treatment_burn)\n",
    "treatments\n",
    "\n",
    "\n",
    "df.ratios.yr1 = data.frame()\n",
    "for (x in treatments){\n",
    "    df.treatment = df.preburn %>% filter(treatment_burn == x)\n",
    "    Treatment = x\n",
    "    ratio = (nrow(df.treatment  %>% filter(Status == \"L\")))/(nrow(df.treatment  %>% filter(Status == \"D\")))\n",
    "    df.temp = cbind(Treatment, ratio)\n",
    "    df.ratios.yr1 = rbind(df.ratios.yr1 , df.temp )\n",
    "}\n",
    "\n",
    "df.ratios.yr1 = df.ratios.yr1 %>% mutate(MonitoringStatus = \"PreBurnYear1\")\n",
    "\n",
    "ggplot(df.ratios, aes(x = Treatment, y = ratio)) +\n",
    "    geom_col() +\n",
    "    theme_bw(base_size = 15) +\n",
    "    ylab(\"Live:Dead\")"
   ]
  },
  {
   "cell_type": "code",
   "execution_count": 6,
   "metadata": {},
   "outputs": [
    {
     "data": {
      "text/html": [
       "<style>\n",
       ".list-inline {list-style: none; margin:0; padding: 0}\n",
       ".list-inline>li {display: inline-block}\n",
       ".list-inline>li:not(:last-child)::after {content: \"\\00b7\"; padding: 0 .5ex}\n",
       "</style>\n",
       "<ol class=list-inline><li>'post_budbreak'</li><li>'pre_budbreak'</li><li>'control'</li></ol>\n"
      ],
      "text/latex": [
       "\\begin{enumerate*}\n",
       "\\item 'post\\_budbreak'\n",
       "\\item 'pre\\_budbreak'\n",
       "\\item 'control'\n",
       "\\end{enumerate*}\n"
      ],
      "text/markdown": [
       "1. 'post_budbreak'\n",
       "2. 'pre_budbreak'\n",
       "3. 'control'\n",
       "\n",
       "\n"
      ],
      "text/plain": [
       "[1] \"post_budbreak\" \"pre_budbreak\"  \"control\"      "
      ]
     },
     "metadata": {},
     "output_type": "display_data"
    },
    {
     "data": {
      "text/html": [
       "<table class=\"dataframe\">\n",
       "<caption>A data.frame: 3 × 3</caption>\n",
       "<thead>\n",
       "\t<tr><th scope=col>Treatment</th><th scope=col>ratio</th><th scope=col>MonitoringStatus</th></tr>\n",
       "\t<tr><th scope=col>&lt;chr&gt;</th><th scope=col>&lt;chr&gt;</th><th scope=col>&lt;chr&gt;</th></tr>\n",
       "</thead>\n",
       "<tbody>\n",
       "\t<tr><td>post_budbreak</td><td>2.5952380952381 </td><td>PostBurnYear1</td></tr>\n",
       "\t<tr><td>pre_budbreak </td><td>5.44827586206897</td><td>PostBurnYear1</td></tr>\n",
       "\t<tr><td>control      </td><td>8.55555555555556</td><td>PostBurnYear1</td></tr>\n",
       "</tbody>\n",
       "</table>\n"
      ],
      "text/latex": [
       "A data.frame: 3 × 3\n",
       "\\begin{tabular}{lll}\n",
       " Treatment & ratio & MonitoringStatus\\\\\n",
       " <chr> & <chr> & <chr>\\\\\n",
       "\\hline\n",
       "\t post\\_budbreak & 2.5952380952381  & PostBurnYear1\\\\\n",
       "\t pre\\_budbreak  & 5.44827586206897 & PostBurnYear1\\\\\n",
       "\t control       & 8.55555555555556 & PostBurnYear1\\\\\n",
       "\\end{tabular}\n"
      ],
      "text/markdown": [
       "\n",
       "A data.frame: 3 × 3\n",
       "\n",
       "| Treatment &lt;chr&gt; | ratio &lt;chr&gt; | MonitoringStatus &lt;chr&gt; |\n",
       "|---|---|---|\n",
       "| post_budbreak | 2.5952380952381  | PostBurnYear1 |\n",
       "| pre_budbreak  | 5.44827586206897 | PostBurnYear1 |\n",
       "| control       | 8.55555555555556 | PostBurnYear1 |\n",
       "\n"
      ],
      "text/plain": [
       "  Treatment     ratio            MonitoringStatus\n",
       "1 post_budbreak 2.5952380952381  PostBurnYear1   \n",
       "2 pre_budbreak  5.44827586206897 PostBurnYear1   \n",
       "3 control       8.55555555555556 PostBurnYear1   "
      ]
     },
     "metadata": {},
     "output_type": "display_data"
    },
    {
     "data": {
      "image/png": "[encoded data removed]",
      "text/plain": [
       "plot without title"
      ]
     },
     "metadata": {
      "image/png": {
       "height": 420,
       "width": 420
      }
     },
     "output_type": "display_data"
    }
   ],
   "source": [
    "##Create new dataframe with just pre burn year 1\n",
    "df.preburn = df.meta %>% filter(Monitoring.Status == \"PostBurnYear1\")\n",
    "treatments = unique(df.preburn$treatment_burn)\n",
    "treatments\n",
    "\n",
    "\n",
    "df.ratios.yr1.post = data.frame()\n",
    "for (x in treatments){\n",
    "    df.treatment = df.preburn %>% filter(treatment_burn == x)\n",
    "    Treatment = x\n",
    "    ratio = (nrow(df.treatment  %>% filter(Status == \"L\")))/(nrow(df.treatment  %>% filter(Status == \"D\")))\n",
    "    df.temp = cbind(Treatment, ratio)\n",
    "    df.ratios.yr1.post = rbind(df.ratios.yr1.post, df.temp )\n",
    "}\n",
    "\n",
    "df.ratios.yr1.post = df.ratios.yr1.post %>% mutate(MonitoringStatus = \"PostBurnYear1\")\n",
    "df.ratios.yr1.post\n",
    "\n",
    "ggplot(df.ratios, aes(x = Treatment, y = ratio)) +\n",
    "    geom_col() +\n",
    "    theme_bw(base_size = 15) +\n",
    "    ylab(\"Live:Dead\")"
   ]
  },
  {
   "cell_type": "code",
   "execution_count": 7,
   "metadata": {},
   "outputs": [
    {
     "data": {
      "text/html": [
       "<table class=\"dataframe\">\n",
       "<caption>A data.frame: 3 × 3</caption>\n",
       "<thead>\n",
       "\t<tr><th scope=col>Treatment</th><th scope=col>ratio</th><th scope=col>MonitoringStatus</th></tr>\n",
       "\t<tr><th scope=col>&lt;chr&gt;</th><th scope=col>&lt;chr&gt;</th><th scope=col>&lt;chr&gt;</th></tr>\n",
       "</thead>\n",
       "<tbody>\n",
       "\t<tr><td>post_budbreak</td><td>2.5952380952381 </td><td>PostBurnYear1</td></tr>\n",
       "\t<tr><td>pre_budbreak </td><td>5.44827586206897</td><td>PostBurnYear1</td></tr>\n",
       "\t<tr><td>control      </td><td>8.55555555555556</td><td>PostBurnYear1</td></tr>\n",
       "</tbody>\n",
       "</table>\n"
      ],
      "text/latex": [
       "A data.frame: 3 × 3\n",
       "\\begin{tabular}{lll}\n",
       " Treatment & ratio & MonitoringStatus\\\\\n",
       " <chr> & <chr> & <chr>\\\\\n",
       "\\hline\n",
       "\t post\\_budbreak & 2.5952380952381  & PostBurnYear1\\\\\n",
       "\t pre\\_budbreak  & 5.44827586206897 & PostBurnYear1\\\\\n",
       "\t control       & 8.55555555555556 & PostBurnYear1\\\\\n",
       "\\end{tabular}\n"
      ],
      "text/markdown": [
       "\n",
       "A data.frame: 3 × 3\n",
       "\n",
       "| Treatment &lt;chr&gt; | ratio &lt;chr&gt; | MonitoringStatus &lt;chr&gt; |\n",
       "|---|---|---|\n",
       "| post_budbreak | 2.5952380952381  | PostBurnYear1 |\n",
       "| pre_budbreak  | 5.44827586206897 | PostBurnYear1 |\n",
       "| control       | 8.55555555555556 | PostBurnYear1 |\n",
       "\n"
      ],
      "text/plain": [
       "  Treatment     ratio            MonitoringStatus\n",
       "1 post_budbreak 2.5952380952381  PostBurnYear1   \n",
       "2 pre_budbreak  5.44827586206897 PostBurnYear1   \n",
       "3 control       8.55555555555556 PostBurnYear1   "
      ]
     },
     "metadata": {},
     "output_type": "display_data"
    },
    {
     "data": {
      "text/html": [
       "<table class=\"dataframe\">\n",
       "<caption>A data.frame: 3 × 3</caption>\n",
       "<thead>\n",
       "\t<tr><th scope=col>Treatment</th><th scope=col>ratio</th><th scope=col>MonitoringStatus</th></tr>\n",
       "\t<tr><th scope=col>&lt;chr&gt;</th><th scope=col>&lt;chr&gt;</th><th scope=col>&lt;chr&gt;</th></tr>\n",
       "</thead>\n",
       "<tbody>\n",
       "\t<tr><td>post_budbreak</td><td>7.2             </td><td>PreBurnYear1</td></tr>\n",
       "\t<tr><td>pre_budbreak </td><td>7.72727272727273</td><td>PreBurnYear1</td></tr>\n",
       "\t<tr><td>control      </td><td>8.44444444444444</td><td>PreBurnYear1</td></tr>\n",
       "</tbody>\n",
       "</table>\n"
      ],
      "text/latex": [
       "A data.frame: 3 × 3\n",
       "\\begin{tabular}{lll}\n",
       " Treatment & ratio & MonitoringStatus\\\\\n",
       " <chr> & <chr> & <chr>\\\\\n",
       "\\hline\n",
       "\t post\\_budbreak & 7.2              & PreBurnYear1\\\\\n",
       "\t pre\\_budbreak  & 7.72727272727273 & PreBurnYear1\\\\\n",
       "\t control       & 8.44444444444444 & PreBurnYear1\\\\\n",
       "\\end{tabular}\n"
      ],
      "text/markdown": [
       "\n",
       "A data.frame: 3 × 3\n",
       "\n",
       "| Treatment &lt;chr&gt; | ratio &lt;chr&gt; | MonitoringStatus &lt;chr&gt; |\n",
       "|---|---|---|\n",
       "| post_budbreak | 7.2              | PreBurnYear1 |\n",
       "| pre_budbreak  | 7.72727272727273 | PreBurnYear1 |\n",
       "| control       | 8.44444444444444 | PreBurnYear1 |\n",
       "\n"
      ],
      "text/plain": [
       "  Treatment     ratio            MonitoringStatus\n",
       "1 post_budbreak 7.2              PreBurnYear1    \n",
       "2 pre_budbreak  7.72727272727273 PreBurnYear1    \n",
       "3 control       8.44444444444444 PreBurnYear1    "
      ]
     },
     "metadata": {},
     "output_type": "display_data"
    }
   ],
   "source": [
    "df.ratios.yr1.post\n",
    "df.ratios.yr1"
   ]
  },
  {
   "cell_type": "code",
   "execution_count": 8,
   "metadata": {},
   "outputs": [],
   "source": [
    "df.yr1 = rbind(df.ratios.yr1, df.ratios.yr1.post)\n",
    "df.yr1$ratio = as.numeric(df.yr1$ratio)"
   ]
  },
  {
   "cell_type": "code",
   "execution_count": 9,
   "metadata": {},
   "outputs": [
    {
     "data": {
      "text/html": [
       "<table class=\"dataframe\">\n",
       "<caption>A data.frame: 6 × 3</caption>\n",
       "<thead>\n",
       "\t<tr><th scope=col>Treatment</th><th scope=col>ratio</th><th scope=col>MonitoringStatus</th></tr>\n",
       "\t<tr><th scope=col>&lt;chr&gt;</th><th scope=col>&lt;dbl&gt;</th><th scope=col>&lt;chr&gt;</th></tr>\n",
       "</thead>\n",
       "<tbody>\n",
       "\t<tr><td>post_budbreak</td><td>7.200000</td><td>PreBurnYear1 </td></tr>\n",
       "\t<tr><td>pre_budbreak </td><td>7.727273</td><td>PreBurnYear1 </td></tr>\n",
       "\t<tr><td>control      </td><td>8.444444</td><td>PreBurnYear1 </td></tr>\n",
       "\t<tr><td>post_budbreak</td><td>2.595238</td><td>PostBurnYear1</td></tr>\n",
       "\t<tr><td>pre_budbreak </td><td>5.448276</td><td>PostBurnYear1</td></tr>\n",
       "\t<tr><td>control      </td><td>8.555556</td><td>PostBurnYear1</td></tr>\n",
       "</tbody>\n",
       "</table>\n"
      ],
      "text/latex": [
       "A data.frame: 6 × 3\n",
       "\\begin{tabular}{lll}\n",
       " Treatment & ratio & MonitoringStatus\\\\\n",
       " <chr> & <dbl> & <chr>\\\\\n",
       "\\hline\n",
       "\t post\\_budbreak & 7.200000 & PreBurnYear1 \\\\\n",
       "\t pre\\_budbreak  & 7.727273 & PreBurnYear1 \\\\\n",
       "\t control       & 8.444444 & PreBurnYear1 \\\\\n",
       "\t post\\_budbreak & 2.595238 & PostBurnYear1\\\\\n",
       "\t pre\\_budbreak  & 5.448276 & PostBurnYear1\\\\\n",
       "\t control       & 8.555556 & PostBurnYear1\\\\\n",
       "\\end{tabular}\n"
      ],
      "text/markdown": [
       "\n",
       "A data.frame: 6 × 3\n",
       "\n",
       "| Treatment &lt;chr&gt; | ratio &lt;dbl&gt; | MonitoringStatus &lt;chr&gt; |\n",
       "|---|---|---|\n",
       "| post_budbreak | 7.200000 | PreBurnYear1  |\n",
       "| pre_budbreak  | 7.727273 | PreBurnYear1  |\n",
       "| control       | 8.444444 | PreBurnYear1  |\n",
       "| post_budbreak | 2.595238 | PostBurnYear1 |\n",
       "| pre_budbreak  | 5.448276 | PostBurnYear1 |\n",
       "| control       | 8.555556 | PostBurnYear1 |\n",
       "\n"
      ],
      "text/plain": [
       "  Treatment     ratio    MonitoringStatus\n",
       "1 post_budbreak 7.200000 PreBurnYear1    \n",
       "2 pre_budbreak  7.727273 PreBurnYear1    \n",
       "3 control       8.444444 PreBurnYear1    \n",
       "4 post_budbreak 2.595238 PostBurnYear1   \n",
       "5 pre_budbreak  5.448276 PostBurnYear1   \n",
       "6 control       8.555556 PostBurnYear1   "
      ]
     },
     "metadata": {},
     "output_type": "display_data"
    }
   ],
   "source": [
    "df.yr1"
   ]
  },
  {
   "cell_type": "code",
   "execution_count": 10,
   "metadata": {},
   "outputs": [],
   "source": [
    "df.yr1 = df.yr1 %>%\n",
    "    mutate(Treatment.MonitoringStatus = paste0(Treatment, \"_\", MonitoringStatus))\n"
   ]
  },
  {
   "cell_type": "code",
   "execution_count": 13,
   "metadata": {},
   "outputs": [
    {
     "data": {
      "text/html": [
       "<table class=\"dataframe\">\n",
       "<caption>A data.frame: 6 × 4</caption>\n",
       "<thead>\n",
       "\t<tr><th scope=col>Treatment</th><th scope=col>ratio</th><th scope=col>MonitoringStatus</th><th scope=col>Treatment.MonitoringStatus</th></tr>\n",
       "\t<tr><th scope=col>&lt;chr&gt;</th><th scope=col>&lt;dbl&gt;</th><th scope=col>&lt;chr&gt;</th><th scope=col>&lt;chr&gt;</th></tr>\n",
       "</thead>\n",
       "<tbody>\n",
       "\t<tr><td>post_budbreak</td><td>7.200000</td><td>PreBurnYear1 </td><td>post_budbreak_PreBurnYear1 </td></tr>\n",
       "\t<tr><td>pre_budbreak </td><td>7.727273</td><td>PreBurnYear1 </td><td>pre_budbreak_PreBurnYear1  </td></tr>\n",
       "\t<tr><td>control      </td><td>8.444444</td><td>PreBurnYear1 </td><td>control_PreBurnYear1       </td></tr>\n",
       "\t<tr><td>post_budbreak</td><td>2.595238</td><td>PostBurnYear1</td><td>post_budbreak_PostBurnYear1</td></tr>\n",
       "\t<tr><td>pre_budbreak </td><td>5.448276</td><td>PostBurnYear1</td><td>pre_budbreak_PostBurnYear1 </td></tr>\n",
       "\t<tr><td>control      </td><td>8.555556</td><td>PostBurnYear1</td><td>control_PostBurnYear1      </td></tr>\n",
       "</tbody>\n",
       "</table>\n"
      ],
      "text/latex": [
       "A data.frame: 6 × 4\n",
       "\\begin{tabular}{llll}\n",
       " Treatment & ratio & MonitoringStatus & Treatment.MonitoringStatus\\\\\n",
       " <chr> & <dbl> & <chr> & <chr>\\\\\n",
       "\\hline\n",
       "\t post\\_budbreak & 7.200000 & PreBurnYear1  & post\\_budbreak\\_PreBurnYear1 \\\\\n",
       "\t pre\\_budbreak  & 7.727273 & PreBurnYear1  & pre\\_budbreak\\_PreBurnYear1  \\\\\n",
       "\t control       & 8.444444 & PreBurnYear1  & control\\_PreBurnYear1       \\\\\n",
       "\t post\\_budbreak & 2.595238 & PostBurnYear1 & post\\_budbreak\\_PostBurnYear1\\\\\n",
       "\t pre\\_budbreak  & 5.448276 & PostBurnYear1 & pre\\_budbreak\\_PostBurnYear1 \\\\\n",
       "\t control       & 8.555556 & PostBurnYear1 & control\\_PostBurnYear1      \\\\\n",
       "\\end{tabular}\n"
      ],
      "text/markdown": [
       "\n",
       "A data.frame: 6 × 4\n",
       "\n",
       "| Treatment &lt;chr&gt; | ratio &lt;dbl&gt; | MonitoringStatus &lt;chr&gt; | Treatment.MonitoringStatus &lt;chr&gt; |\n",
       "|---|---|---|---|\n",
       "| post_budbreak | 7.200000 | PreBurnYear1  | post_budbreak_PreBurnYear1  |\n",
       "| pre_budbreak  | 7.727273 | PreBurnYear1  | pre_budbreak_PreBurnYear1   |\n",
       "| control       | 8.444444 | PreBurnYear1  | control_PreBurnYear1        |\n",
       "| post_budbreak | 2.595238 | PostBurnYear1 | post_budbreak_PostBurnYear1 |\n",
       "| pre_budbreak  | 5.448276 | PostBurnYear1 | pre_budbreak_PostBurnYear1  |\n",
       "| control       | 8.555556 | PostBurnYear1 | control_PostBurnYear1       |\n",
       "\n"
      ],
      "text/plain": [
       "  Treatment     ratio    MonitoringStatus Treatment.MonitoringStatus \n",
       "1 post_budbreak 7.200000 PreBurnYear1     post_budbreak_PreBurnYear1 \n",
       "2 pre_budbreak  7.727273 PreBurnYear1     pre_budbreak_PreBurnYear1  \n",
       "3 control       8.444444 PreBurnYear1     control_PreBurnYear1       \n",
       "4 post_budbreak 2.595238 PostBurnYear1    post_budbreak_PostBurnYear1\n",
       "5 pre_budbreak  5.448276 PostBurnYear1    pre_budbreak_PostBurnYear1 \n",
       "6 control       8.555556 PostBurnYear1    control_PostBurnYear1      "
      ]
     },
     "metadata": {},
     "output_type": "display_data"
    }
   ],
   "source": [
    "df.yr1"
   ]
  },
  {
   "cell_type": "code",
   "execution_count": 11,
   "metadata": {},
   "outputs": [
    {
     "data": {
      "text/html": [
       "<style>\n",
       ".list-inline {list-style: none; margin:0; padding: 0}\n",
       ".list-inline>li {display: inline-block}\n",
       ".list-inline>li:not(:last-child)::after {content: \"\\00b7\"; padding: 0 .5ex}\n",
       "</style>\n",
       "<ol class=list-inline><li>'post_budbreak_PreBurnYear1'</li><li>'pre_budbreak_PreBurnYear1'</li><li>'control_PreBurnYear1'</li><li>'post_budbreak_PostBurnYear1'</li><li>'pre_budbreak_PostBurnYear1'</li><li>'control_PostBurnYear1'</li></ol>\n"
      ],
      "text/latex": [
       "\\begin{enumerate*}\n",
       "\\item 'post\\_budbreak\\_PreBurnYear1'\n",
       "\\item 'pre\\_budbreak\\_PreBurnYear1'\n",
       "\\item 'control\\_PreBurnYear1'\n",
       "\\item 'post\\_budbreak\\_PostBurnYear1'\n",
       "\\item 'pre\\_budbreak\\_PostBurnYear1'\n",
       "\\item 'control\\_PostBurnYear1'\n",
       "\\end{enumerate*}\n"
      ],
      "text/markdown": [
       "1. 'post_budbreak_PreBurnYear1'\n",
       "2. 'pre_budbreak_PreBurnYear1'\n",
       "3. 'control_PreBurnYear1'\n",
       "4. 'post_budbreak_PostBurnYear1'\n",
       "5. 'pre_budbreak_PostBurnYear1'\n",
       "6. 'control_PostBurnYear1'\n",
       "\n",
       "\n"
      ],
      "text/plain": [
       "[1] \"post_budbreak_PreBurnYear1\"  \"pre_budbreak_PreBurnYear1\"  \n",
       "[3] \"control_PreBurnYear1\"        \"post_budbreak_PostBurnYear1\"\n",
       "[5] \"pre_budbreak_PostBurnYear1\"  \"control_PostBurnYear1\"      "
      ]
     },
     "metadata": {},
     "output_type": "display_data"
    }
   ],
   "source": [
    "unique(df.yr1$Treatment.MonitoringStatus)"
   ]
  },
  {
   "cell_type": "code",
   "execution_count": 17,
   "metadata": {},
   "outputs": [
    {
     "data": {
      "image/png": "[encoded data removed]",
      "text/plain": [
       "plot without title"
      ]
     },
     "metadata": {
      "image/png": {
       "height": 420,
       "width": 420
      }
     },
     "output_type": "display_data"
    }
   ],
   "source": [
    "ggplot(df.yr1, aes(x = Treatment.MonitoringStatus, y = ratio, fill = MonitoringStatus)) +\n",
    "    geom_col() +\n",
    "    theme_bw(base_size = 6) +\n",
    "    ylab(\"Live:Dead\") +\n",
    "    scale_x_discrete(limits = c('control_PreBurnYear1', 'control_PostBurnYear1', 'pre_budbreak_PreBurnYear1', \n",
    "                               'pre_budbreak_PostBurnYear1', 'post_budbreak_PreBurnYear1','post_budbreak_PostBurnYear1' ))"
   ]
  },
  {
   "cell_type": "code",
   "execution_count": 14,
   "metadata": {},
   "outputs": [],
   "source": [
    "df.meta = df.meta %>% \n",
    "    mutate(Monitoring.Status = \n",
    "            ifelse(Monitoring.Status == \"PreBurn\", 'PreBurnYear1', Monitoring.Status))"
   ]
  },
  {
   "cell_type": "code",
   "execution_count": 26,
   "metadata": {},
   "outputs": [
    {
     "data": {
      "text/html": [
       "<table class=\"dataframe\">\n",
       "<caption>A grouped_df: 18 × 4</caption>\n",
       "<thead>\n",
       "\t<tr><th scope=col>Year</th><th scope=col>treatment_burn</th><th scope=col>Status</th><th scope=col>n</th></tr>\n",
       "\t<tr><th scope=col>&lt;chr&gt;</th><th scope=col>&lt;chr&gt;</th><th scope=col>&lt;chr&gt;</th><th scope=col>&lt;int&gt;</th></tr>\n",
       "</thead>\n",
       "<tbody>\n",
       "\t<tr><td>yr1</td><td>control      </td><td>D</td><td>  9</td></tr>\n",
       "\t<tr><td>yr1</td><td>control      </td><td>L</td><td> 76</td></tr>\n",
       "\t<tr><td>yr1</td><td>post_budbreak</td><td>D</td><td> 20</td></tr>\n",
       "\t<tr><td>yr1</td><td>post_budbreak</td><td>L</td><td>144</td></tr>\n",
       "\t<tr><td>yr1</td><td>pre_budbreak </td><td>D</td><td> 22</td></tr>\n",
       "\t<tr><td>yr1</td><td>pre_budbreak </td><td>L</td><td>170</td></tr>\n",
       "\t<tr><td>yr2</td><td>control      </td><td>D</td><td>  9</td></tr>\n",
       "\t<tr><td>yr2</td><td>control      </td><td>L</td><td> 77</td></tr>\n",
       "\t<tr><td>yr2</td><td>post_budbreak</td><td>D</td><td> 42</td></tr>\n",
       "\t<tr><td>yr2</td><td>post_budbreak</td><td>L</td><td>109</td></tr>\n",
       "\t<tr><td>yr2</td><td>pre_budbreak </td><td>D</td><td> 29</td></tr>\n",
       "\t<tr><td>yr2</td><td>pre_budbreak </td><td>L</td><td>158</td></tr>\n",
       "\t<tr><td>yr3</td><td>control      </td><td>D</td><td>  9</td></tr>\n",
       "\t<tr><td>yr3</td><td>control      </td><td>L</td><td> 58</td></tr>\n",
       "\t<tr><td>yr3</td><td>post_budbreak</td><td>D</td><td> 17</td></tr>\n",
       "\t<tr><td>yr3</td><td>post_budbreak</td><td>L</td><td> 58</td></tr>\n",
       "\t<tr><td>yr3</td><td>pre_budbreak </td><td>D</td><td> 19</td></tr>\n",
       "\t<tr><td>yr3</td><td>pre_budbreak </td><td>L</td><td> 74</td></tr>\n",
       "</tbody>\n",
       "</table>\n"
      ],
      "text/latex": [
       "A grouped\\_df: 18 × 4\n",
       "\\begin{tabular}{llll}\n",
       " Year & treatment\\_burn & Status & n\\\\\n",
       " <chr> & <chr> & <chr> & <int>\\\\\n",
       "\\hline\n",
       "\t yr1 & control       & D &   9\\\\\n",
       "\t yr1 & control       & L &  76\\\\\n",
       "\t yr1 & post\\_budbreak & D &  20\\\\\n",
       "\t yr1 & post\\_budbreak & L & 144\\\\\n",
       "\t yr1 & pre\\_budbreak  & D &  22\\\\\n",
       "\t yr1 & pre\\_budbreak  & L & 170\\\\\n",
       "\t yr2 & control       & D &   9\\\\\n",
       "\t yr2 & control       & L &  77\\\\\n",
       "\t yr2 & post\\_budbreak & D &  42\\\\\n",
       "\t yr2 & post\\_budbreak & L & 109\\\\\n",
       "\t yr2 & pre\\_budbreak  & D &  29\\\\\n",
       "\t yr2 & pre\\_budbreak  & L & 158\\\\\n",
       "\t yr3 & control       & D &   9\\\\\n",
       "\t yr3 & control       & L &  58\\\\\n",
       "\t yr3 & post\\_budbreak & D &  17\\\\\n",
       "\t yr3 & post\\_budbreak & L &  58\\\\\n",
       "\t yr3 & pre\\_budbreak  & D &  19\\\\\n",
       "\t yr3 & pre\\_budbreak  & L &  74\\\\\n",
       "\\end{tabular}\n"
      ],
      "text/markdown": [
       "\n",
       "A grouped_df: 18 × 4\n",
       "\n",
       "| Year &lt;chr&gt; | treatment_burn &lt;chr&gt; | Status &lt;chr&gt; | n &lt;int&gt; |\n",
       "|---|---|---|---|\n",
       "| yr1 | control       | D |   9 |\n",
       "| yr1 | control       | L |  76 |\n",
       "| yr1 | post_budbreak | D |  20 |\n",
       "| yr1 | post_budbreak | L | 144 |\n",
       "| yr1 | pre_budbreak  | D |  22 |\n",
       "| yr1 | pre_budbreak  | L | 170 |\n",
       "| yr2 | control       | D |   9 |\n",
       "| yr2 | control       | L |  77 |\n",
       "| yr2 | post_budbreak | D |  42 |\n",
       "| yr2 | post_budbreak | L | 109 |\n",
       "| yr2 | pre_budbreak  | D |  29 |\n",
       "| yr2 | pre_budbreak  | L | 158 |\n",
       "| yr3 | control       | D |   9 |\n",
       "| yr3 | control       | L |  58 |\n",
       "| yr3 | post_budbreak | D |  17 |\n",
       "| yr3 | post_budbreak | L |  58 |\n",
       "| yr3 | pre_budbreak  | D |  19 |\n",
       "| yr3 | pre_budbreak  | L |  74 |\n",
       "\n"
      ],
      "text/plain": [
       "   Year treatment_burn Status n  \n",
       "1  yr1  control        D        9\n",
       "2  yr1  control        L       76\n",
       "3  yr1  post_budbreak  D       20\n",
       "4  yr1  post_budbreak  L      144\n",
       "5  yr1  pre_budbreak   D       22\n",
       "6  yr1  pre_budbreak   L      170\n",
       "7  yr2  control        D        9\n",
       "8  yr2  control        L       77\n",
       "9  yr2  post_budbreak  D       42\n",
       "10 yr2  post_budbreak  L      109\n",
       "11 yr2  pre_budbreak   D       29\n",
       "12 yr2  pre_budbreak   L      158\n",
       "13 yr3  control        D        9\n",
       "14 yr3  control        L       58\n",
       "15 yr3  post_budbreak  D       17\n",
       "16 yr3  post_budbreak  L       58\n",
       "17 yr3  pre_budbreak   D       19\n",
       "18 yr3  pre_budbreak   L       74"
      ]
     },
     "metadata": {},
     "output_type": "display_data"
    }
   ],
   "source": [
    "df.meta %>%\n",
    "    group_by(Year, treatment_burn) %>%\n",
    "    count(Status)"
   ]
  },
  {
   "cell_type": "code",
   "execution_count": 4,
   "metadata": {},
   "outputs": [],
   "source": [
    "df.old = df.meta %>% filter(experiment == \"old\")\n",
    "df.new = df.meta %>% filter(experiment == \"new\")\n"
   ]
  },
  {
   "cell_type": "code",
   "execution_count": 116,
   "metadata": {},
   "outputs": [
    {
     "data": {
      "text/html": [
       "<table class=\"dataframe\">\n",
       "<caption>A grouped_df: 18 × 4</caption>\n",
       "<thead>\n",
       "\t<tr><th scope=col>Year</th><th scope=col>treatment_burn</th><th scope=col>Status</th><th scope=col>n</th></tr>\n",
       "\t<tr><th scope=col>&lt;chr&gt;</th><th scope=col>&lt;chr&gt;</th><th scope=col>&lt;chr&gt;</th><th scope=col>&lt;int&gt;</th></tr>\n",
       "</thead>\n",
       "<tbody>\n",
       "\t<tr><td>yr1</td><td>control      </td><td>D</td><td> 1</td></tr>\n",
       "\t<tr><td>yr1</td><td>control      </td><td>L</td><td> 4</td></tr>\n",
       "\t<tr><td>yr1</td><td>post_budbreak</td><td>D</td><td>11</td></tr>\n",
       "\t<tr><td>yr1</td><td>post_budbreak</td><td>L</td><td>76</td></tr>\n",
       "\t<tr><td>yr1</td><td>pre_budbreak </td><td>D</td><td>13</td></tr>\n",
       "\t<tr><td>yr1</td><td>pre_budbreak </td><td>L</td><td>85</td></tr>\n",
       "\t<tr><td>yr2</td><td>control      </td><td>D</td><td> 1</td></tr>\n",
       "\t<tr><td>yr2</td><td>control      </td><td>L</td><td> 4</td></tr>\n",
       "\t<tr><td>yr2</td><td>post_budbreak</td><td>D</td><td>15</td></tr>\n",
       "\t<tr><td>yr2</td><td>post_budbreak</td><td>L</td><td>59</td></tr>\n",
       "\t<tr><td>yr2</td><td>pre_budbreak </td><td>D</td><td>17</td></tr>\n",
       "\t<tr><td>yr2</td><td>pre_budbreak </td><td>L</td><td>76</td></tr>\n",
       "\t<tr><td>yr3</td><td>control      </td><td>D</td><td> 1</td></tr>\n",
       "\t<tr><td>yr3</td><td>control      </td><td>L</td><td> 4</td></tr>\n",
       "\t<tr><td>yr3</td><td>post_budbreak</td><td>D</td><td>17</td></tr>\n",
       "\t<tr><td>yr3</td><td>post_budbreak</td><td>L</td><td>58</td></tr>\n",
       "\t<tr><td>yr3</td><td>pre_budbreak </td><td>D</td><td>19</td></tr>\n",
       "\t<tr><td>yr3</td><td>pre_budbreak </td><td>L</td><td>74</td></tr>\n",
       "</tbody>\n",
       "</table>\n"
      ],
      "text/latex": [
       "A grouped\\_df: 18 × 4\n",
       "\\begin{tabular}{llll}\n",
       " Year & treatment\\_burn & Status & n\\\\\n",
       " <chr> & <chr> & <chr> & <int>\\\\\n",
       "\\hline\n",
       "\t yr1 & control       & D &  1\\\\\n",
       "\t yr1 & control       & L &  4\\\\\n",
       "\t yr1 & post\\_budbreak & D & 11\\\\\n",
       "\t yr1 & post\\_budbreak & L & 76\\\\\n",
       "\t yr1 & pre\\_budbreak  & D & 13\\\\\n",
       "\t yr1 & pre\\_budbreak  & L & 85\\\\\n",
       "\t yr2 & control       & D &  1\\\\\n",
       "\t yr2 & control       & L &  4\\\\\n",
       "\t yr2 & post\\_budbreak & D & 15\\\\\n",
       "\t yr2 & post\\_budbreak & L & 59\\\\\n",
       "\t yr2 & pre\\_budbreak  & D & 17\\\\\n",
       "\t yr2 & pre\\_budbreak  & L & 76\\\\\n",
       "\t yr3 & control       & D &  1\\\\\n",
       "\t yr3 & control       & L &  4\\\\\n",
       "\t yr3 & post\\_budbreak & D & 17\\\\\n",
       "\t yr3 & post\\_budbreak & L & 58\\\\\n",
       "\t yr3 & pre\\_budbreak  & D & 19\\\\\n",
       "\t yr3 & pre\\_budbreak  & L & 74\\\\\n",
       "\\end{tabular}\n"
      ],
      "text/markdown": [
       "\n",
       "A grouped_df: 18 × 4\n",
       "\n",
       "| Year &lt;chr&gt; | treatment_burn &lt;chr&gt; | Status &lt;chr&gt; | n &lt;int&gt; |\n",
       "|---|---|---|---|\n",
       "| yr1 | control       | D |  1 |\n",
       "| yr1 | control       | L |  4 |\n",
       "| yr1 | post_budbreak | D | 11 |\n",
       "| yr1 | post_budbreak | L | 76 |\n",
       "| yr1 | pre_budbreak  | D | 13 |\n",
       "| yr1 | pre_budbreak  | L | 85 |\n",
       "| yr2 | control       | D |  1 |\n",
       "| yr2 | control       | L |  4 |\n",
       "| yr2 | post_budbreak | D | 15 |\n",
       "| yr2 | post_budbreak | L | 59 |\n",
       "| yr2 | pre_budbreak  | D | 17 |\n",
       "| yr2 | pre_budbreak  | L | 76 |\n",
       "| yr3 | control       | D |  1 |\n",
       "| yr3 | control       | L |  4 |\n",
       "| yr3 | post_budbreak | D | 17 |\n",
       "| yr3 | post_budbreak | L | 58 |\n",
       "| yr3 | pre_budbreak  | D | 19 |\n",
       "| yr3 | pre_budbreak  | L | 74 |\n",
       "\n"
      ],
      "text/plain": [
       "   Year treatment_burn Status n \n",
       "1  yr1  control        D       1\n",
       "2  yr1  control        L       4\n",
       "3  yr1  post_budbreak  D      11\n",
       "4  yr1  post_budbreak  L      76\n",
       "5  yr1  pre_budbreak   D      13\n",
       "6  yr1  pre_budbreak   L      85\n",
       "7  yr2  control        D       1\n",
       "8  yr2  control        L       4\n",
       "9  yr2  post_budbreak  D      15\n",
       "10 yr2  post_budbreak  L      59\n",
       "11 yr2  pre_budbreak   D      17\n",
       "12 yr2  pre_budbreak   L      76\n",
       "13 yr3  control        D       1\n",
       "14 yr3  control        L       4\n",
       "15 yr3  post_budbreak  D      17\n",
       "16 yr3  post_budbreak  L      58\n",
       "17 yr3  pre_budbreak   D      19\n",
       "18 yr3  pre_budbreak   L      74"
      ]
     },
     "metadata": {},
     "output_type": "display_data"
    }
   ],
   "source": [
    "df.old %>%\n",
    "    group_by(Year, treatment_burn) %>%\n",
    "    count(Status)\n",
    "    "
   ]
  },
  {
   "cell_type": "code",
   "execution_count": null,
   "metadata": {},
   "outputs": [],
   "source": []
  }
 ],
 "metadata": {
  "kernelspec": {
   "display_name": "R",
   "language": "R",
   "name": "ir"
  },
  "language_info": {
   "codemirror_mode": "r",
   "file_extension": ".r",
   "mimetype": "text/x-r-source",
   "name": "R",
   "pygments_lexer": "r",
   "version": "4.0.5"
  }
 },
 "nbformat": 4,
 "nbformat_minor": 4
}
